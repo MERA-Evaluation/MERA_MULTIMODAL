{
 "cells": [
  {
   "cell_type": "markdown",
   "metadata": {},
   "source": [
    "## Загрузка датасета на HuggingFace"
   ]
  },
  {
   "cell_type": "markdown",
   "metadata": {},
   "source": [
    "Этот ноутбук дает пример того, как залить локальный датасет на ХФ. Адаптируйте его под свой датасет. Затем, выложите в гитхаб получившийся ноутбук (приложите к своему датасету), чтобы всегда был доступен код для заливки вашего датасета на ХФ. Убедитесь, что ячейки последовательно запускаются."
   ]
  },
  {
   "cell_type": "code",
   "execution_count": null,
   "metadata": {},
   "outputs": [],
   "source": [
    "from PIL import Image\n",
    "import json\n",
    "import datasets\n",
    "from tqdm import tqdm\n",
    "import os"
   ]
  },
  {
   "cell_type": "markdown",
   "metadata": {},
   "source": [
    "### Подготовка данных"
   ]
  },
  {
   "cell_type": "markdown",
   "metadata": {},
   "source": [
    "#### WARNING! \n",
    "\n",
    "Если ваш датасет является __ПРИВАТНЫМ__, то оставьте `MY_DATASET_IS_PRIVATE_LETS_HIDE_ANSWERS` равным `True`. Иначе, поставьте `False`. Этот флаг дальше используется, чтобы стереть ответы перед загрузкой на ХФ датасета. На ХФ даже приватно не должно лежать датасетов с ответами!"
   ]
  },
  {
   "cell_type": "code",
   "execution_count": null,
   "metadata": {},
   "outputs": [],
   "source": [
    "MY_DATASET_IS_PRIVATE_LETS_HIDE_ANSWERS = False"
   ]
  },
  {
   "cell_type": "markdown",
   "metadata": {},
   "source": [
    "Данный пример рассчитан на загрузку на ХФ локального датасета.\n",
    "\n",
    "Параметр `path_to_data` - это путь ДО файлов `shots.json` и `test.json`, которые вы будете дальше загружать на ХФ в виде датасета или домена датасета. \n",
    "\n",
    "Параметр `path_to_meta` - это путь ДО меты датасета.\n",
    "\n",
    "Итоговые пути будут собираться из `path_to_data` / `path_to_meta` + `file_name.json`!"
   ]
  },
  {
   "cell_type": "code",
   "execution_count": null,
   "metadata": {},
   "outputs": [],
   "source": [
    "path_to_data = \"./\"\n",
    "path_to_meta = \"./\""
   ]
  },
  {
   "cell_type": "markdown",
   "metadata": {},
   "source": [
    "Сплиты и мета лежат в формате JSON."
   ]
  },
  {
   "cell_type": "code",
   "execution_count": null,
   "metadata": {},
   "outputs": [],
   "source": [
    "def load_json(path):\n",
    "    with open(path) as f:\n",
    "        data = json.load(f)\n",
    "    return data"
   ]
  },
  {
   "cell_type": "markdown",
   "metadata": {},
   "source": [
    "#### Подгрузка данных"
   ]
  },
  {
   "cell_type": "markdown",
   "metadata": {},
   "source": [
    "Считайте сплиты и мету датасета (домена датасета). Это просто JSON файлики либо внутри прямо папки датасета, либо внутри папки по названию домена, который вы будете загружать."
   ]
  },
  {
   "cell_type": "code",
   "execution_count": null,
   "metadata": {},
   "outputs": [],
   "source": [
    "shots = load_json(os.path.join(path_to_data, \"shots.json\"))[\"data\"]\n",
    "test = load_json(os.path.join(path_to_data, \"test.json\"))[\"data\"]\n",
    "meta = load_json(os.path.join(path_to_meta, \"dataset_meta.json\"))"
   ]
  },
  {
   "cell_type": "markdown",
   "metadata": {},
   "source": [
    "Из меты для датасета нужны только промпты."
   ]
  },
  {
   "cell_type": "code",
   "execution_count": null,
   "metadata": {},
   "outputs": [],
   "source": [
    "prompts = meta[\"prompts\"]"
   ]
  },
  {
   "cell_type": "markdown",
   "metadata": {},
   "source": [
    "#### Обработка полей датасета"
   ]
  },
  {
   "cell_type": "markdown",
   "metadata": {},
   "source": [
    "На ХФ вы загружаете датасет, где у КАЖДОГО сэмпла вместо числа в поле instruction стоит промпт. Число указывает, какой по индексу взять промпт из секции с промптами в мете датасета."
   ]
  },
  {
   "cell_type": "code",
   "execution_count": null,
   "metadata": {},
   "outputs": [],
   "source": [
    "for card in shots:\n",
    "    card[\"instruction\"] = prompts[card[\"instruction\"]]\n",
    "\n",
    "for card in test:\n",
    "    card[\"instruction\"] = prompts[card[\"instruction\"]]"
   ]
  },
  {
   "cell_type": "markdown",
   "metadata": {},
   "source": [
    "Теперь вам нужно \"обработать\" вашу модальность(-и). Если у вас в датасете картинки, то для каждой вы вместо пути к картинке подгружаете саму картинку и убираете у нее `filename`.\n",
    "\n",
    "Зачем убирать `filename`? Если этого не сделать, то потом при конвертации в байты модуль datasets увидит, что картинка взята по какому-то пути и не будет ее конвертировать в байты. А нам нужно превратить PIL.Image в байткод и загрузить на ХФ именно его.\n",
    "\n",
    "Для картинок вы можете воспользоваться функцией `convert_images`. Она принимает на вход: \n",
    "- `dataset_split`: список словарей, это список сэмплов сплита (json файлик, который вы загрузили ранее)\n",
    "- `feature_name`: строка, название поля, которое преобразуется (например, \"image\", \"image_1\")\n",
    "- `path_to_samples`: строка. Если ваши коллеги для картинок указывали не полный путь до них, а только название файлика, то, чтобы открыть файлик, вам придется указать, как попасть в папку samples, где и находятся картинки. Тогда, укажите в `path_to_samples` путь от папки, где у вас этот ноутбук до папки `samples` (включая ее в путь)"
   ]
  },
  {
   "cell_type": "code",
   "execution_count": null,
   "metadata": {},
   "outputs": [],
   "source": [
    "def convert_images(dataset_split: list[dict], feature_name: str, path_to_samples: str = None):\n",
    "    for card in tqdm(dataset_split):\n",
    "        if path_to_samples is None:\n",
    "            path_to_image = card[\"inputs\"][feature_name]\n",
    "        else:\n",
    "            path_to_image = os.path.join(path_to_samples, card[\"inputs\"][feature_name])\n",
    "        \n",
    "        card[\"inputs\"][feature_name] = Image.open(path_to_image)\n",
    "        card[\"inputs\"][feature_name].filename = \"\""
   ]
  },
  {
   "cell_type": "code",
   "execution_count": null,
   "metadata": {},
   "outputs": [],
   "source": [
    "convert_images(shots, \"image\")\n",
    "convert_images(test, \"image\")"
   ]
  },
  {
   "cell_type": "markdown",
   "metadata": {},
   "source": [
    "Для аудио модальности файл ничем не открываем, а просто сохраняем ссылки на аудио-данные. Обработка аудио-данных будет сделана позднее с помощью datasets.Audio() при формировании features."
   ]
  },
  {
   "cell_type": "code",
   "execution_count": null,
   "metadata": {},
   "outputs": [],
   "source": [
    "def convert_audio(dataset_split: list[dict], feature_name: str, path_to_samples: str = None):\n",
    "    for card in tqdm(dataset_split):\n",
    "        if path_to_samples is None:\n",
    "            path_to_audio = card[\"inputs\"][feature_name]\n",
    "        else:\n",
    "            path_to_audio = os.path.join(path_to_samples, card[\"inputs\"][feature_name])\n",
    "\n",
    "        card[\"inputs\"][feature_name] = path_to_audio\n",
    "\n",
    "convert_audio(shots, \"audio\")\n",
    "convert_audio(test, \"audio\")"
   ]
  },
  {
   "cell_type": "markdown",
   "metadata": {},
   "source": [
    "#### Убираем ответы для приватных задач\n",
    "\n",
    "Надеемся, вы поставили в начале ноутбука корректное значение `MY_DATASET_IS_PRIVATE_LETS_HIDE_ANSWERS`.\n",
    "\n",
    "Если там стоит `True`, то в `test` сплите ответы на все задания стираются. Вместо них остается пустая строка, чтобы вы случайно не пушнули на ХФ датасет с заполненными ответами, и они не утекли."
   ]
  },
  {
   "cell_type": "code",
   "execution_count": null,
   "metadata": {},
   "outputs": [],
   "source": [
    "def hide_answers(dataset_split: list[dict]):\n",
    "    for card in tqdm(dataset_split):\n",
    "        card[\"outputs\"] = \"\""
   ]
  },
  {
   "cell_type": "code",
   "execution_count": null,
   "metadata": {},
   "outputs": [],
   "source": [
    "if MY_DATASET_IS_PRIVATE_LETS_HIDE_ANSWERS:\n",
    "    hide_answers(test)"
   ]
  },
  {
   "cell_type": "markdown",
   "metadata": {},
   "source": [
    "### Создаем датасет для загрузки на ХФ"
   ]
  },
  {
   "cell_type": "markdown",
   "metadata": {},
   "source": [
    "#### Аннотация полей датасета"
   ]
  },
  {
   "cell_type": "markdown",
   "metadata": {},
   "source": [
    "В `features` повторяется структура КАЖДОГО сэмпла вашего датасета с описанием формата данных в каждом поле. \n",
    "- `instruction` всегда строка\n",
    "- `meta` - id всегда целое число\n",
    "\n",
    "Далее смотрите по тому, какие поля у вашего датасета."
   ]
  },
  {
   "cell_type": "markdown",
   "metadata": {},
   "source": [
    "`features` нужен для того, чтобы ХФ сам автоматически создал техническую часть README.md датасета, заполнив ее информацией, которая используется при загрузке датасета. Отсутствие `features` может и обычно приводит к невозможности использовать датасет. Ровно такие же последствия будут от ошибок в заполнении (например, неправильно указан тип данных)."
   ]
  },
  {
   "cell_type": "markdown",
   "metadata": {},
   "source": [
    "__Внимание!__ Если у вас в датасете в разных вопросах разное количество ответов, то поля в `features` нужно заполнить для сэмпла с НАИБОЛЬШИМ количеством ответов. Иначе говоря, представьте, что у вас у всех вопросов в датасете максимальное количество вариантов ответа, просто некоторые пустые. Вот из такого соображения и заполняйте `features`. Он один на весь датасет и должен охватывать все поля, которые в нем встречаются!"
   ]
  },
  {
   "cell_type": "code",
   "execution_count": null,
   "metadata": {},
   "outputs": [],
   "source": [
    "features = datasets.Features({\n",
    "    \"instruction\": datasets.Value(\"string\"),\n",
    "    \"inputs\": {\n",
    "        \"image\": datasets.Image(decode=False),\n",
    "        \"question\": datasets.Value(\"string\"),\n",
    "    },\n",
    "    \"outputs\": datasets.Value(\"string\"),\n",
    "    \"meta\": {\n",
    "        \"id\": datasets.Value(\"int32\"),\n",
    "        \"domain\": datasets.Value(\"string\"),\n",
    "        'image': {\n",
    "            'synt_source': datasets.Sequence([datasets.Value(\"string\")]),\n",
    "            'source': datasets.Value(\"string\"),\n",
    "            'type': datasets.Value(\"string\"),\n",
    "            'content': datasets.Value(\"string\"),\n",
    "            'context': datasets.Value(\"string\")\n",
    "        }\n",
    "    },\n",
    "})\n"
   ]
  },
  {
   "cell_type": "markdown",
   "metadata": {},
   "source": [
    "Пример features для аудио:"
   ]
  },
  {
   "cell_type": "code",
   "execution_count": null,
   "metadata": {},
   "outputs": [],
   "source": [
    "features = datasets.Features({\n",
    "    \"instruction\": datasets.Value(\"string\"),\n",
    "    \"inputs\": {\n",
    "        \"audio\": datasets.Audio(),\n",
    "        \"question\": datasets.Value(\"string\"),\n",
    "    },\n",
    "    \"outputs\": datasets.Value(\"string\"),\n",
    "    \"meta\": {\n",
    "        \"id\": datasets.Value(\"int32\"),\n",
    "        \"domain\": datasets.Value(\"string\"),\n",
    "        'audio': {\n",
    "            'synt_source': datasets.Sequence([datasets.Value(\"string\")]),\n",
    "            'source': datasets.Value(\"string\"),\n",
    "            'type': datasets.Value(\"string\"),\n",
    "            'content': datasets.Value(\"string\"),\n",
    "            'context': datasets.Value(\"string\")\n",
    "        }\n",
    "    },\n",
    "})"
   ]
  },
  {
   "cell_type": "markdown",
   "metadata": {},
   "source": [
    "#### Создание датасетов для каждого сплита"
   ]
  },
  {
   "cell_type": "markdown",
   "metadata": {},
   "source": [
    "Теперь создаем сплиты датасета. Можно это сделать либо в одну строку:"
   ]
  },
  {
   "cell_type": "code",
   "execution_count": null,
   "metadata": {},
   "outputs": [],
   "source": [
    "shots_ds = datasets.Dataset.from_list(shots, features=features)"
   ]
  },
  {
   "cell_type": "markdown",
   "metadata": {},
   "source": [
    "Но это способ для маленьких датасетов. Большие датасеты так создаются крайне долго. Чтобы побыстрее собрать большой датасет, можно разбить его на кусочки по N сэмплов. Перегонять каждый кусочек и присоединять к уже конвертированным ранее кусочкам."
   ]
  },
  {
   "cell_type": "code",
   "execution_count": null,
   "metadata": {},
   "outputs": [],
   "source": [
    "STEP = 20\n",
    "\n",
    "lst_steps = []\n",
    "for i in tqdm(range(0, len(test), STEP)):\n",
    "    tmp = datasets.Dataset.from_list(test[i: i+STEP], features=features)\n",
    "    lst_steps.extend([tmp])\n",
    "    \n",
    "test_ds = datasets.concatenate_datasets(lst_steps)"
   ]
  },
  {
   "cell_type": "markdown",
   "metadata": {},
   "source": [
    "Для аудио-данных, чтобы выделилсь нужные фичи, следует дополнительно сделать (для картинок этот код можно исполнить, ничего сломаться не должно):"
   ]
  },
  {
   "cell_type": "code",
   "execution_count": null,
   "metadata": {},
   "outputs": [],
   "source": [
    "shots_ds = shots_ds.cast(features)\n",
    "test_ds = test_ds.cast(features)"
   ]
  },
  {
   "cell_type": "markdown",
   "metadata": {},
   "source": [
    "##### Проверка"
   ]
  },
  {
   "cell_type": "markdown",
   "metadata": {},
   "source": [
    "Если вы собирали датасет по кускам, то разумно будет проверить, что сборка прошла успешно - ничего не потеряно, не продублировано и так далее.\n",
    "\n",
    "Но вы можете проверить целостность датасета даже, если и не по кусочкам собирали его. Так вы можете отловить ошибки до того, как их найдут на ревью :)"
   ]
  },
  {
   "cell_type": "code",
   "execution_count": null,
   "metadata": {},
   "outputs": [],
   "source": [
    "# проверка, что id вопросов сходятся\n",
    "\n",
    "bools = []\n",
    "for i in range(len(test)):\n",
    "    bools.extend([test[i][\"meta\"][\"id\"] == test_ds[i][\"meta\"][\"id\"]])\n",
    "all(bools)"
   ]
  },
  {
   "cell_type": "code",
   "execution_count": null,
   "metadata": {},
   "outputs": [],
   "source": [
    "# проверка, что количество вопросов до конвертации и после осталось одинаковым\n",
    "\n",
    "len(test) == len(test_ds)"
   ]
  },
  {
   "cell_type": "markdown",
   "metadata": {},
   "source": [
    "#### Собираем сплиты в один датасет"
   ]
  },
  {
   "cell_type": "code",
   "execution_count": null,
   "metadata": {},
   "outputs": [],
   "source": [
    "dataset = datasets.DatasetDict({\"shots\": shots_ds, \"test\": test_ds})"
   ]
  },
  {
   "cell_type": "markdown",
   "metadata": {},
   "source": [
    "### Загрузка датасета на ХФ"
   ]
  },
  {
   "cell_type": "markdown",
   "metadata": {},
   "source": [
    "Для загрузки на ХФ вам понадобятся:\n",
    "- Токен. Это строка, содержащая ключик, который позволит вам записывать в репозиторий. \n",
    "- Путь для записи. Это тоже строка, которая содержит путь, по которому вы выложите свой датасет. Этот путь содержит название аккаунта (MERA-evaluation) и название вашего датасета. Название датасета пишите ровно так, как оно заявлено в мете! Регистр тоже имеет значение!\n",
    "\n",
    "Советуем опубликовывать сперва всё приватно, и выслать на почту mera@a-ai.ru токен и путь для верификации. \n",
    "Если ваш сет публичный и вы хотите отправить всё публично, то в Merge request просто пришлите путь к сету."
   ]
  },
  {
   "cell_type": "code",
   "execution_count": null,
   "metadata": {},
   "outputs": [],
   "source": [
    "### TOKEN\n",
    "token = \"token\"\n",
    "###\n",
    "\n",
    "### UPLOAD PATH\n",
    "dataset_path_hub = \"MERA-evaluation/ruCLEVR\"\n",
    "###\n",
    "\n",
    "\n",
    "# Если вы хотите предварительно протестировать, как датасет будет выглядеть после заливки на ХФ,\n",
    "# то можно загрузить его сначала к себе в приватный репозиторий\n",
    "\n",
    "### UPLOAD PATH\n",
    "# dataset_path_hub = \"artemorloff/ruclevr\"\n",
    "###"
   ]
  },
  {
   "cell_type": "code",
   "execution_count": null,
   "metadata": {},
   "outputs": [],
   "source": [
    "dataset.push_to_hub(dataset_path_hub, private=True, token=token) # опубликовать приватно"
   ]
  },
  {
   "cell_type": "markdown",
   "metadata": {},
   "source": [
    "### Проверка того, как датасет загрузился на ХФ"
   ]
  },
  {
   "cell_type": "markdown",
   "metadata": {},
   "source": [
    "После загрузки датасета будет полезно посмотреть, как его будет видеть любой человек, который после вашей загрузки его скачает. \n",
    "\n",
    "Загрузите датасет целиком, используя `datasets.load_dataset(dataset_path_hub)`, а затем проверьте, что:\n",
    "- все поля на месте. Если у вас в датасете у разных вопросов было разное количество вариантов ответа, то теперь их везде станет одинаковое количество. Недостающие варианты ответа у каждого вопроса теперь будут прописаны, но будут иметь значение `None`. Это нормально.\n",
    "- ваша модальность корректно обработалась. Если у вас в датасете были картинки, то все они должны превратиться в байткод. Не должно остаться ни одной картинки, которая не конвертирована в байты. Если у картинки есть и байты, и путь прописан (а не `None`), то это окей. `bytes` точно должны быть заполнены, `path` может быть None.\n",
    "- датасет идентичен по содержанию исходному. То есть, в исходном JSON и загруженном датасете вопрос с одинаковым `id` имеет одинаково заполненные поля (кроме тех, что заполняются `None`, как описано выше)."
   ]
  },
  {
   "cell_type": "code",
   "execution_count": null,
   "metadata": {},
   "outputs": [],
   "source": [
    "ds = datasets.load_dataset(dataset_path_hub)"
   ]
  },
  {
   "cell_type": "code",
   "execution_count": null,
   "metadata": {},
   "outputs": [],
   "source": [
    "ds"
   ]
  },
  {
   "cell_type": "markdown",
   "metadata": {},
   "source": [
    "Пример проверки двух сплитов, что в них везде картинки конвертированы в байты"
   ]
  },
  {
   "cell_type": "code",
   "execution_count": null,
   "metadata": {},
   "outputs": [],
   "source": [
    "check = []\n",
    "for card in ds[\"shots\"]:\n",
    "    image_converted_to_bytes = isinstance(card[\"inputs\"][\"image\"][\"bytes\"], bytes)\n",
    "    check.extend([image_converted_to_bytes])\n",
    "\n",
    "all(check)"
   ]
  },
  {
   "cell_type": "code",
   "execution_count": null,
   "metadata": {},
   "outputs": [],
   "source": [
    "check = []\n",
    "for card in ds[\"test\"]:\n",
    "    image_converted_to_bytes = isinstance(card[\"inputs\"][\"image\"][\"bytes\"], bytes)\n",
    "    check.extend([image_converted_to_bytes])\n",
    "\n",
    "all(check)"
   ]
  },
  {
   "cell_type": "markdown",
   "metadata": {},
   "source": [
    "Пример проверки двух сплитов, что в них тексты вопросов совпадают с оригинальными"
   ]
  },
  {
   "cell_type": "code",
   "execution_count": null,
   "metadata": {},
   "outputs": [],
   "source": [
    "check = []\n",
    "for idx, card in enumerate(ds[\"shots\"]):\n",
    "    same_question = shots[idx][\"inputs\"][\"question\"] == card[\"inputs\"][\"question\"]\n",
    "    check.extend([same_question])\n",
    "\n",
    "all(check)"
   ]
  },
  {
   "cell_type": "code",
   "execution_count": null,
   "metadata": {},
   "outputs": [],
   "source": [
    "check = []\n",
    "for idx, card in enumerate(ds[\"test\"]):\n",
    "    same_question = test[idx][\"inputs\"][\"question\"] == card[\"inputs\"][\"question\"]\n",
    "    check.extend([same_question])\n",
    "\n",
    "all(check)"
   ]
  },
  {
   "cell_type": "markdown",
   "metadata": {},
   "source": [
    "Для аудио после загрузки данных с huggingface получаем следующую информацию:\n",
    "- path - имя аудио-файла\n",
    "- array - аудио-данные в виде массива array\n",
    "\n",
    "\n",
    "- sampling_rate - частота дискретизации аудио"
   ]
  },
  {
   "cell_type": "code",
   "execution_count": null,
   "metadata": {},
   "outputs": [],
   "source": [
    "import json\n",
    "import datasets\n",
    "from tqdm import tqdm\n",
    "import os\n",
    "\n",
    "dataset_path_hub = \"rakalexandra/fake_audio\"\n",
    "ds = datasets.load_dataset(dataset_path_hub)\n",
    "ds[\"shots\"][0][\"inputs\"][\"audio\"]"
   ]
  },
  {
   "cell_type": "markdown",
   "metadata": {},
   "source": [
    "Проверки для аудио, что все данные те же самые:\n",
    "- path_to_samples - папка с первоначалными аудио, которые ранее грузили на hf"
   ]
  },
  {
   "cell_type": "code",
   "execution_count": null,
   "metadata": {},
   "outputs": [],
   "source": [
    "import soundfile as sf\n",
    "from tqdm import tqdm\n",
    "\n",
    "def check_audio(hf_dataset_split: list[dict], dataset_split: list[dict], path_to_samples: str = None):\n",
    "    assert len(dataset_split) == len(hf_dataset_split)\n",
    "    for idx, item in tqdm(enumerate(hf_dataset_split)):\n",
    "        orig_audio_name = dataset_split[idx][\"inputs\"][\"audio\"]\n",
    "\n",
    "        sr = item[\"inputs\"][\"audio\"][\"sampling_rate\"]\n",
    "        audio_name = item[\"inputs\"][\"audio\"][\"path\"]\n",
    "        data = item[\"inputs\"][\"audio\"][\"array\"]\n",
    "        \n",
    "        if path_to_samples is None:\n",
    "            path_to_audio = orig_audio_name\n",
    "        else:\n",
    "            path_to_audio = os.path.join(path_to_samples, orig_audio_name)\n",
    "\n",
    "        orig_audio, orig_sample_rate = sf.read(path_to_audio)\n",
    "\n",
    "        assert orig_audio_name.split(\"/\")[-1] == audio_name\n",
    "        assert sr == orig_sample_rate\n",
    "        assert all(data == orig_audio)\n",
    "\n",
    "check_audio(ds[\"shots\"], shots, \"/path/to/orig_audio_set\")\n",
    "check_audio(ds[\"test\"], test, \"/path/to/orig_audio_set\")"
   ]
  },
  {
   "cell_type": "markdown",
   "metadata": {},
   "source": [
    "Если хотим сохранить аудио, загруженные с hf на диск:"
   ]
  },
  {
   "cell_type": "code",
   "execution_count": null,
   "metadata": {},
   "outputs": [],
   "source": [
    "new_audio_path = \"/path/to/audio\"\n",
    "\n",
    "for item in ds[\"shots\"]:\n",
    "    sr = item[\"inputs\"][\"audio\"][\"sampling_rate\"]\n",
    "    audio_name = item[\"inputs\"][\"audio\"][\"path\"]\n",
    "    data = item[\"inputs\"][\"audio\"][\"array\"]\n",
    "    sf.write(os.path.join(new_audio_path, audio_name), data, sr)"
   ]
  }
 ],
 "metadata": {
  "kernelspec": {
   "display_name": "Python [conda env:aerak-p3.9_cuda12_salmonn_clone]",
   "language": "python",
   "name": "conda-env-aerak-p3.9_cuda12_salmonn_clone-py"
  },
  "language_info": {
   "codemirror_mode": {
    "name": "ipython",
    "version": 3
   },
   "file_extension": ".py",
   "mimetype": "text/x-python",
   "name": "python",
   "nbconvert_exporter": "python",
   "pygments_lexer": "ipython3",
   "version": "3.9.17"
  }
 },
 "nbformat": 4,
 "nbformat_minor": 4
}
